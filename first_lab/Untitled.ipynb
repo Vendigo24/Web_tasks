{
 "cells": [
  {
   "cell_type": "code",
   "execution_count": 1,
   "id": "b4a36d75",
   "metadata": {
    "scrolled": true
   },
   "outputs": [
    {
     "data": {
      "text/plain": [
       "<sqlite3.Cursor at 0x21eb64ed110>"
      ]
     },
     "execution_count": 1,
     "metadata": {},
     "output_type": "execute_result"
    }
   ],
   "source": [
    "import sqlite3 as sql\n",
    "import pandas as pd\n",
    "\n",
    "con = sql.connect(\"booking.sqlite\")\n",
    "b_damp = open(\"booking.db\", \"r\", encoding='utf-8-sig')\n",
    "damp = b_damp.read()\n",
    "b_damp.close()\n",
    "con.executescript(damp)"
   ]
  },
  {
   "cell_type": "code",
   "execution_count": 37,
   "id": "89c8d950",
   "metadata": {},
   "outputs": [
    {
     "name": "stdout",
     "output_type": "stream",
     "text": [
      "   room_name check_in_date check_out_date   Дни     Счет\n",
      "0     С-0201    2020-10-30     2020-11-06   8.0  20000.0\n",
      "1     С-0203    2020-11-07     2020-11-10   4.0  10000.0\n",
      "2     С-0205    2021-02-01     2021-02-11  11.0  27500.0\n",
      "3     С-0205    2020-12-02     2020-12-03   2.0   5000.0\n",
      "4     С-0207    2021-01-20     2021-01-23   4.0  10000.0\n",
      "5     С-0209    2021-02-11     2021-02-13   3.0   7500.0\n",
      "6     С-0213    2021-03-07     2021-03-12   6.0  15000.0\n",
      "7     С-0213    2021-02-07     2021-02-17  11.0  27500.0\n",
      "8     С-0213    2020-11-25     2020-12-03   9.0  22500.0\n",
      "9     С-0213    2020-09-26     2020-09-29   4.0  10000.0\n",
      "10    С-0215    2021-03-12     2021-03-18   7.0  17500.0\n",
      "11    С-0215    2021-01-26     2021-01-28   3.0   7500.0\n",
      "12    С-0215    2020-11-20     2020-11-23   4.0  10000.0\n",
      "13    С-0217    2021-01-09     2021-01-15   7.0  17500.0\n",
      "14    С-0217    2020-12-28     2021-01-07  11.0  27500.0\n",
      "15    С-0217    2020-12-11     2020-12-24  14.0  35000.0\n",
      "16    С-0217    2020-09-28     2020-10-06   9.0  22500.0\n"
     ]
    }
   ],
   "source": [
    "df = pd.read_sql('''\n",
    "SELECT room_name,\n",
    "       check_in_date,\n",
    "       check_out_date,\n",
    "       JULIANDAY(check_out_date) - JULIANDAY(check_in_date) + 1 as Дни,\n",
    "       price * (JULIANDAY(check_out_date) - JULIANDAY(check_in_date) + 1) as Счет\n",
    "FROM room_booking\n",
    "     JOIN room USING (room_id)\n",
    "     JOIN type_room USING (type_room_id) \n",
    "     JOIN status USING (status_id)\n",
    "WHERE type_room_name = :s_type \n",
    "     AND status_name = :s_status\n",
    "ORDER BY room_name, price DESC, check_out_date DESC\n",
    "''', con, params={\"s_type\": \"Стандартный двухместный номер\", \"s_status\": \"Занят\"})\n",
    "print(df)"
   ]
  },
  {
   "cell_type": "code",
   "execution_count": 2,
   "id": "904ebb08",
   "metadata": {},
   "outputs": [
    {
     "name": "stdout",
     "output_type": "stream",
     "text": [
      "            Гость                                             Услуги  Сумма\n",
      "0   Абрамова А.А.                                               Сейф    100\n",
      "1    Астахов И.И.  Бизнес-центр\\nСпа и оздоровительный центр\\nСпа...  22431\n",
      "2    Жидкова Р.Л.                           Трансфер от/до аэропорта   1882\n",
      "3     Садиев С.И.                Трансфер от/до аэропорта\\nЭкскурсии   5000\n",
      "4    Самарин С.С.                                       Фитнес-центр   1459\n",
      "5    Солиева К.П.                    Доставка еды и напитков в номер   4815\n",
      "6  Тихомиров Т.М.                                   Услуги прачечной    100\n",
      "7    Тощаков П.С.                    Доставка еды и напитков в номер   3259\n",
      "8    Туполев И.Д.                                   Услуги прачечной    383\n",
      "9    Шевцова А.Р.                  Сейф\\nСпа и оздоровительный центр   3719\n"
     ]
    }
   ],
   "source": [
    "df = pd.read_sql('''\n",
    "SELECT guest_name as Гость,\n",
    "       GROUP_CONCAT (service_name, CHAR(10)) as Услуги,\n",
    "       SUM(price) as Сумма\n",
    "FROM (SELECT *\n",
    "         FROM service_booking\n",
    "         JOIN room_booking USING (room_booking_id)\n",
    "         JOIN guest USING (guest_id)\n",
    "         JOIN service USING (service_id)\n",
    "         ORDER BY service_name)       \n",
    "WHERE service_start_date BETWEEN :s_left_date AND :s_right_date\n",
    "GROUP BY guest_name\n",
    "''', con, params={\"s_left_date\": \"2020-12-01\", \"s_right_date\":\"2021-01-31\"})\n",
    "print(df)"
   ]
  },
  {
   "cell_type": "code",
   "execution_count": 2,
   "id": "6b053991",
   "metadata": {},
   "outputs": [
    {
     "name": "stdout",
     "output_type": "stream",
     "text": [
      "           Гость   Номер  Количество                           Тип_номера\n",
      "0   Астахов И.И.  П-0815           1  Представительский двухместный номер\n",
      "1   Астахов И.И.  П-1004           2  Представительский одноместный номер\n",
      "2   Астахов И.И.  С-0204           1      Двухместный номер бизнес класса\n",
      "3   Астахов И.И.  С-0206           1      Двухместный номер бизнес класса\n",
      "4   Астахов И.И.  С-0215           1        Стандартный двухместный номер\n",
      "5   Астахов И.И.  С-0217           1        Стандартный двухместный номер\n",
      "6   Астахов И.И.  С-0219           1        Стандартный одноместный номер\n",
      "7   Астахов И.И.  С-0220           1      Одноместный номер бизнес класса\n",
      "8   Астахов И.И.  С-0222           2      Одноместный номер бизнес класса\n",
      "9   Астахов И.И.  С-0225           1        Стандартный одноместный номер\n",
      "10  Астахов И.И.  С-0226           1      Одноместный номер бизнес класса\n"
     ]
    }
   ],
   "source": [
    "df = pd.read_sql('''\n",
    "WITH get_guest_count(guest_id, c_guest, count) AS(\n",
    "    SELECT guest_id, guest_name, COUNT(guest_name)\n",
    "    FROM guest \n",
    "    JOIN room_booking USING (guest_id)\n",
    "    GROUP BY guest_name\n",
    "),\n",
    "    get_max_count(max_count) AS (\n",
    "    SELECT MAX(count)\n",
    "    FROM get_guest_count\n",
    "),  get_guest_with_max_count(guest_id, m_guest) AS (\n",
    "    SELECT get_guest_count.guest_id, get_guest_count.c_guest \n",
    "    FROM get_guest_count, get_max_count\n",
    "    WHERE get_max_count.max_count = get_guest_count.count\n",
    ")\n",
    "SELECT m_guest as Гость,\n",
    "        room_name as Номер,\n",
    "        COUNT(room_name) as Количество,\n",
    "        type_room_name as Тип_номера\n",
    "FROM get_guest_with_max_count \n",
    "    JOIN room_booking USING (guest_id)\n",
    "    JOIN room USING (room_id)\n",
    "    JOIN type_room USING (type_room_id)\n",
    "GROUP BY room_name\n",
    "ORDER BY m_guest\n",
    "''', con)\n",
    "\n",
    "print(df)"
   ]
  },
  {
   "cell_type": "code",
   "execution_count": 6,
   "id": "d8af72a5",
   "metadata": {},
   "outputs": [
    {
     "name": "stdout",
     "output_type": "stream",
     "text": [
      "                                 Вид_платежа  Сумма\n",
      "0  Астахов И.И. С-0206 2021-01-13/2021-01-16  15000\n",
      "1     Спа и оздоровительный центр 2021-01-15   2755\n",
      "2        Трансфер от/до аэропорта 2021-01-16    900\n",
      "3            Экскурсии 2021-01-14,2021-01-15  12700\n",
      "4                                  Доплатить   1355\n"
     ]
    }
   ],
   "source": [
    "# CREATE TABLE IF NOT EXISTS bill\n",
    "# AS \n",
    "# WITH get_guest_info(guest_info, deposit) AS(\n",
    "#     SELECT guest_name || \" \" || room_name || \" \" || check_in_date || \"/\" || check_out_date, 15000\n",
    "#     FROM guest\n",
    "#      JOIN room_booking USING (guest_id)\n",
    "#      JOIN room USING (room_id)\n",
    "# WHERE guest_name = \"Астахов И.И.\" AND room_name = \"С-0206\" AND check_in_date = \"2021-01-13\"\n",
    "# ), get_services(services, sum) AS (\n",
    "# SELECT service_name || \" \" || GROUP_CONCAT(service_start_date), SUM(price)\n",
    "# FROM service\n",
    "#      JOIN service_booking USING(service_id)\n",
    "#      JOIN room_booking USING(room_booking_id)\n",
    "#      JOIN room USING(room_id)\n",
    "#      JOIN guest USING(guest_id)\n",
    "# WHERE guest_name = \"Астахов И.И.\" AND room_name = \"С-0206\" AND check_in_date = \"2021-01-13\"\n",
    "# GROUP BY service_name\n",
    "# ), get_total(info, value) AS(\n",
    "#     SELECT CASE\n",
    "#         WHEN get_guest_info.deposit - SUM(get_services.sum) > 0 THEN \"Вернуть\"\n",
    "#         WHEN get_guest_info.deposit - SUM(get_services.sum) < 0 THEN \"Доплатить\" \n",
    "#         ELSE \"Итого\" \n",
    "#             END,\n",
    "#         ABS(get_guest_info.deposit - SUM(get_services.sum))\n",
    "#     FROM get_services, get_guest_info\n",
    "# ), get_report(report, sum) AS(\n",
    "#     SELECT *\n",
    "#     FROM get_guest_info\n",
    "#     UNION ALL\n",
    "#     SELECT *\n",
    "#     FROM get_services\n",
    "#     UNION ALL\n",
    "#     SELECT *\n",
    "#     FROM get_total)\n",
    "# SELECT report as Вид_платежа, sum as Сумма FROM get_report;\n",
    "\n",
    "df = pd.read_sql(\"\"\"\n",
    "SELECT * FROM bill\n",
    "\"\"\", con)           \n",
    "print(df)"
   ]
  },
  {
   "cell_type": "code",
   "execution_count": 55,
   "id": "099e86b3",
   "metadata": {},
   "outputs": [
    {
     "name": "stdout",
     "output_type": "stream",
     "text": [
      "   Месяц        Дата                           Услуга  Сумма  \\\n",
      "0     09  2020-09-27  Доставка еды и напитков в номер   8665   \n",
      "1     09  2020-09-28         Трансфер от/до аэропорта   1050   \n",
      "2     09  2020-09-28                        Экскурсии   4089   \n",
      "3     09  2020-09-29                     Бизнес-центр   1000   \n",
      "4     10  2020-10-04  Доставка еды и напитков в номер   2343   \n",
      "5     10  2020-10-04      Спа и оздоровительный центр   4448   \n",
      "6     10  2020-10-05         Трансфер от/до аэропорта   1106   \n",
      "7     10  2020-10-17                     Бизнес-центр   1000   \n",
      "8     10  2020-10-30         Трансфер от/до аэропорта   1000   \n",
      "9     11  2020-11-06         Трансфер от/до аэропорта   1200   \n",
      "10    11  2020-11-08                     Бизнес-центр   1000   \n",
      "11    11  2020-11-09                     Бизнес-центр   1000   \n",
      "12    11  2020-11-10                        Экскурсии   3980   \n",
      "13    11  2020-11-16                        Экскурсии   2595   \n",
      "14    11  2020-11-18                     Фитнес-центр   1025   \n",
      "15    11  2020-11-23      Спа и оздоровительный центр   9550   \n",
      "16    11  2020-11-30                     Бизнес-центр   1000   \n",
      "17    11  2020-11-30  Доставка еды и напитков в номер   5300   \n",
      "18    12  2020-12-01                 Услуги прачечной    100   \n",
      "19    12  2020-12-02                             Сейф    100   \n",
      "20    12  2020-12-04                     Бизнес-центр   1000   \n",
      "21    12  2020-12-14         Трансфер от/до аэропорта   1882   \n",
      "22    12  2020-12-16                 Услуги прачечной    383   \n",
      "23    12  2020-12-21      Спа и оздоровительный центр   5076   \n",
      "24    12  2020-12-24  Доставка еды и напитков в номер   4815   \n",
      "25    12  2020-12-26                     Фитнес-центр   1459   \n",
      "26    12  2020-12-30                        Экскурсии   3800   \n",
      "\n",
      "    Сумма_с_накоплением  \n",
      "0                  8665  \n",
      "1                  9715  \n",
      "2                 13804  \n",
      "3                 14804  \n",
      "4                  2343  \n",
      "5                  6791  \n",
      "6                  7897  \n",
      "7                  8897  \n",
      "8                  9897  \n",
      "9                  1200  \n",
      "10                 2200  \n",
      "11                 3200  \n",
      "12                 7180  \n",
      "13                 9775  \n",
      "14                10800  \n",
      "15                20350  \n",
      "16                21350  \n",
      "17                26650  \n",
      "18                  100  \n",
      "19                  200  \n",
      "20                 1200  \n",
      "21                 3082  \n",
      "22                 3465  \n",
      "23                 8541  \n",
      "24                13356  \n",
      "25                14815  \n",
      "26                18615  \n"
     ]
    }
   ],
   "source": [
    "df = pd.read_sql(\"\"\"\n",
    "SELECT strftime('%m', service_start_date) as Месяц,\n",
    "       service_start_date as Дата,\n",
    "       service_name as Услуга,\n",
    "       price as Сумма,\n",
    "       SUM(price) OVER p_price AS Сумма_с_накоплением\n",
    "FROM service_booking\n",
    "    JOIN service USING(service_id)\n",
    "WHERE strftime('%Y', service_start_date) = \"2020\"\n",
    "WINDOW p_price AS(\n",
    "    PARTITION BY strftime('%m', service_start_date)\n",
    "    ORDER BY service_start_date, service_name\n",
    "    ROWS UNBOUNDED PRECEDING\n",
    ")\n",
    "\n",
    "\"\"\", con)           \n",
    "print(df)"
   ]
  },
  {
   "cell_type": "code",
   "execution_count": null,
   "id": "8eb6db9d",
   "metadata": {},
   "outputs": [],
   "source": []
  },
  {
   "cell_type": "code",
   "execution_count": null,
   "id": "0f4a469c",
   "metadata": {},
   "outputs": [],
   "source": []
  }
 ],
 "metadata": {
  "kernelspec": {
   "display_name": "Python 3 (ipykernel)",
   "language": "python",
   "name": "python3"
  },
  "language_info": {
   "codemirror_mode": {
    "name": "ipython",
    "version": 3
   },
   "file_extension": ".py",
   "mimetype": "text/x-python",
   "name": "python",
   "nbconvert_exporter": "python",
   "pygments_lexer": "ipython3",
   "version": "3.9.7"
  }
 },
 "nbformat": 4,
 "nbformat_minor": 5
}
